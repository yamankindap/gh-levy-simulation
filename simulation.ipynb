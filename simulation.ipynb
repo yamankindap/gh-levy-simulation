{
 "cells": [
  {
   "cell_type": "code",
   "execution_count": null,
   "metadata": {},
   "outputs": [],
   "source": [
    "import numbers\n",
    "from scipy.stats import norm\n",
    "from scipy.stats import ks_2samp\n",
    "import numpy as np\n",
    "from generalisedhyperbolic import GeneralisedHyperbolic\n",
    "import matplotlib.pyplot as plt"
   ]
  },
  {
   "cell_type": "code",
   "execution_count": null,
   "metadata": {},
   "outputs": [],
   "source": [
    "# Plotting functions:\n",
    "\n",
    "def qqplot(x, y, quantiles=None, interpolation='nearest', ax=None, rug=False, \n",
    "           rug_length=0.05, rug_kwargs=None, font_size=14, title_size=14, **kwargs):\n",
    "    \"\"\"Draw a quantile-quantile plot for `x` versus `y`.\n",
    "\n",
    "    Parameters\n",
    "    ----------\n",
    "    x, y : array-like\n",
    "        One-dimensional numeric arrays.\n",
    "\n",
    "    ax : matplotlib.axes.Axes, optional\n",
    "        Axes on which to plot. If not provided, the current axes will be used.\n",
    "\n",
    "    quantiles : int or array-like, optional\n",
    "        Quantiles to include in the plot. This can be an array of quantiles, in\n",
    "        which case only the specified quantiles of `x` and `y` will be plotted.\n",
    "        If this is an int `n`, then the quantiles will be `n` evenly spaced\n",
    "        points between 0 and 1. If this is None, then `min(len(x), len(y))`\n",
    "        evenly spaced quantiles between 0 and 1 will be computed.\n",
    "\n",
    "    interpolation : {‘linear’, ‘lower’, ‘higher’, ‘midpoint’, ‘nearest’}\n",
    "        Specify the interpolation method used to find quantiles when `quantiles`\n",
    "        is an int or None. See the documentation for numpy.quantile().\n",
    "\n",
    "    rug : bool, optional\n",
    "        If True, draw a rug plot representing both samples on the horizontal and\n",
    "        vertical axes. If False, no rug plot is drawn.\n",
    "\n",
    "    rug_length : float in [0, 1], optional\n",
    "        Specifies the length of the rug plot lines as a fraction of the total\n",
    "        vertical or horizontal length.\n",
    "\n",
    "    rug_kwargs : dict of keyword arguments\n",
    "        Keyword arguments to pass to matplotlib.axes.Axes.axvline() and\n",
    "        matplotlib.axes.Axes.axhline() when drawing rug plots.\n",
    "\n",
    "    kwargs : dict of keyword arguments\n",
    "        Keyword arguments to pass to matplotlib.axes.Axes.scatter() when drawing\n",
    "        the q-q plot.\n",
    "    \"\"\"\n",
    "    plt.rc('font', size=font_size)\n",
    "    plt.rc('axes', titlesize=title_size) \n",
    "    # Get current axes if none are provided\n",
    "    if ax is None:\n",
    "        ax = plt.gca()\n",
    "\n",
    "    if quantiles is None:\n",
    "        quantiles = min(len(x), len(y))\n",
    "\n",
    "    # Compute quantiles of the two samples\n",
    "    if isinstance(quantiles, numbers.Integral):\n",
    "        quantiles = np.linspace(start=0, stop=1, num=int(quantiles))\n",
    "    else:\n",
    "        quantiles = np.atleast_1d(np.sort(quantiles))\n",
    "    x_quantiles = np.quantile(x, quantiles, interpolation=interpolation)\n",
    "    y_quantiles = np.quantile(y, quantiles, interpolation=interpolation)\n",
    "\n",
    "    # Draw the rug plots if requested\n",
    "    if rug:\n",
    "        # Default rug plot settings\n",
    "        rug_x_params = dict(ymin=0, ymax=rug_length, c='gray', alpha=0.5)\n",
    "        rug_y_params = dict(xmin=0, xmax=rug_length, c='gray', alpha=0.5)\n",
    "\n",
    "        # Override default setting by any user-specified settings\n",
    "        if rug_kwargs is not None:\n",
    "            rug_x_params.update(rug_kwargs)\n",
    "            rug_y_params.update(rug_kwargs)\n",
    "\n",
    "        # Draw the rug plots\n",
    "        for point in x:\n",
    "            ax.axvline(point, **rug_x_params)\n",
    "        for point in y:\n",
    "            ax.axhline(point, **rug_y_params)\n",
    "\n",
    "    # Draw the q-q plot\n",
    "    ax.scatter(x_quantiles, y_quantiles, **kwargs)\n",
    "\n",
    "def moving_average(a, n) :\n",
    "    ret = np.cumsum(a, dtype=float)\n",
    "    ret[n:] = ret[n:] - ret[:-n]\n",
    "    return ret[n - 1:] / n"
   ]
  },
  {
   "cell_type": "code",
   "execution_count": null,
   "metadata": {},
   "outputs": [],
   "source": [
    "lam = -0.4\n",
    "gamma = 0.1\n",
    "delta = 1\n",
    "beta = 0\n",
    "sigma = 1\n",
    "tol = 0.01\n",
    "M_gamma = 10\n",
    "M_stable = 100"
   ]
  },
  {
   "cell_type": "code",
   "execution_count": null,
   "metadata": {},
   "outputs": [],
   "source": [
    "simulator = GeneralisedHyperbolic(lam=lam, gamma=gamma, delta=delta, beta=beta, sigma=sigma, tolerance=tol, M_gamma=M_gamma, M_stable=M_stable, residual_mode='Gaussian')"
   ]
  },
  {
   "attachments": {},
   "cell_type": "markdown",
   "metadata": {},
   "source": [
    "# Marginal sample generation:"
   ]
  },
  {
   "cell_type": "code",
   "execution_count": null,
   "metadata": {},
   "outputs": [],
   "source": [
    "N = 100_000\n",
    "\n",
    "point_process_samples = []\n",
    "for _ in range(N):\n",
    "    x_series = simulator.simulate_jumps()\n",
    "    point_process_samples.append(x_series.sum())\n",
    "point_process_samples = np.array(point_process_samples)"
   ]
  },
  {
   "attachments": {},
   "cell_type": "markdown",
   "metadata": {},
   "source": [
    "## Analysis and visualisation of samples:"
   ]
  },
  {
   "cell_type": "code",
   "execution_count": null,
   "metadata": {},
   "outputs": [],
   "source": [
    "samples_rv_sampler = simulator.random_sample(size=1_000_000)\n",
    "\n",
    "range_min = point_process_samples.min()\n",
    "range_max = point_process_samples.max()\n",
    "\n",
    "if False:\n",
    "    if (np.abs(range_min) < np.abs(range_max)):\n",
    "        range_max = np.abs(range_min)\n",
    "    else:\n",
    "        range_min = -1*range_max\n",
    "\n",
    "gh_range = np.linspace(range_min, range_max, 100000)\n",
    "gh_density = simulator.probability_density(gh_range)"
   ]
  },
  {
   "cell_type": "code",
   "execution_count": null,
   "metadata": {},
   "outputs": [],
   "source": [
    "ks_stat, pval = ks_2samp(point_process_samples, samples_rv_sampler)\n",
    "\n",
    "print('KS-stat:', ks_stat)\n",
    "print('pval:', pval)"
   ]
  },
  {
   "cell_type": "code",
   "execution_count": null,
   "metadata": {},
   "outputs": [],
   "source": [
    "if (gamma == 0) and (lam < 0) and (beta == 0):\n",
    "    nu = -2*lam\n",
    "    t_var = nu/(nu-2)\n",
    "    gaussian_density = norm.pdf(gh_range, loc=0., scale=np.sqrt(t_var))\n",
    "else:\n",
    "    gaussian_density = norm.pdf(gh_range, loc=0., scale=np.sqrt(simulator.unit_variance()))"
   ]
  },
  {
   "cell_type": "code",
   "execution_count": null,
   "metadata": {},
   "outputs": [],
   "source": [
    "fig, ax = plt.subplots(ncols=2, figsize=(21.42, 10.71))\n",
    "\n",
    "qqplot(x=samples_rv_sampler, y=point_process_samples, c='#011f4b', alpha=0.8, edgecolor='k', ax=ax[0], quantiles=10000)\n",
    "ax[0].grid(True)\n",
    "ax[0].set_title(r'Sample Q-Q plot', fontsize=25, weight=\"bold\")\n",
    "ax[0].set_xlabel('GH random variables', fontsize=20)\n",
    "ax[0].set_ylabel(r'$W(1)$ marginal samples',fontsize=20)\n",
    "\n",
    "ax[0].set_xlim(-10, 10)\n",
    "ax[0].set_ylim(-10, 10)\n",
    "\n",
    "ax[0].tick_params(axis='both', which='major', labelsize=15)\n",
    "ax[0].tick_params(axis='both', which='minor', labelsize=15)\n",
    "\n",
    "nb_bins = 30\n",
    "center_eps = 0.05\n",
    "#bin_space = np.linspace(range_min, range_max, nb_bins)\n",
    "bin_space = np.sort(np.concatenate((np.logspace(start=np.log10(center_eps), stop=np.log10(range_max), num=nb_bins), -np.logspace(start=np.log10(center_eps), stop=np.log10(range_max), num=nb_bins))))\n",
    "special_idx = int(bin_space.size/2)\n",
    "bin_space = np.delete(bin_space, [special_idx-1, special_idx])\n",
    "bin_space = np.insert(bin_space, obj=special_idx-1, values=0)\n",
    "\n",
    "\n",
    "counts, bin_edges = np.histogram(point_process_samples, density=True, bins=bin_space)\n",
    "bin_centers = moving_average(bin_edges, n=2)\n",
    "\n",
    "ax[1].plot(gh_range, gh_density, lw=5, label='GH probability density', c='#b3cde0')\n",
    "\n",
    "\n",
    "#ax[1].plot(gh_range, gaussian_density, lw=1.8, label='Gaussian density', c='#5e3c58', ls='--', alpha=0.7)\n",
    "\n",
    "ax[1].set_ylim(8*1e-5)\n",
    "\n",
    "\n",
    "ax[1].plot(bin_centers, counts, label=r'GH density estimate', c='#011f4b', lw=1.8)\n",
    "\n",
    "#ax[1].hist(point_process_samples, density=True, bins=100, color='#011f4b')\n",
    "\n",
    "ax[1].grid(True)\n",
    "\n",
    "ax[1].set_xlabel(r'$W(1)$ marginal samples', fontsize=20)\n",
    "ax[1].set_title('Sample density estimate', fontsize=25, weight=\"bold\")\n",
    "ax[1].legend(fontsize=15)\n",
    "\n",
    "\n",
    "#ax[1].set_xlim(range_min, range_max)\n",
    "\n",
    "ax[1].set_xlim(-10, 10)\n",
    "\n",
    "ax[1].set_yscale('log')\n",
    "\n",
    "ax[1].tick_params(axis='both', which='major', labelsize=15)\n",
    "ax[1].tick_params(axis='both', which='minor', labelsize=15)\n",
    "\n",
    "#plt.savefig('marginal_distribution_plots/marginal_stats_lam_{}_delta_{}_gamma_{}_beta_{}.jpg'.format(lam, delta, gamma, beta), dpi=200)\n",
    "#plt.savefig('marginal_distribution_plots/marginal_stats_lam_{}_delta_{}_gamma_{}_beta_{}_with_gaussian.jpg'.format(lam, delta, gamma, beta), dpi=200)\n",
    "plt.show()"
   ]
  },
  {
   "cell_type": "code",
   "execution_count": null,
   "metadata": {},
   "outputs": [],
   "source": [
    "# Plot for asymmetric  version:\n",
    "\n",
    "fig, ax = plt.subplots(ncols=2, figsize=(21.42, 10.71))\n",
    "\n",
    "qqplot(x=samples_rv_sampler, y=point_process_samples, c='#011f4b', alpha=0.8, edgecolor='k', ax=ax[0], quantiles=10000)\n",
    "ax[0].grid(True)\n",
    "ax[0].set_title(r'Sample Q-Q plot', fontsize=25, weight=\"bold\")\n",
    "ax[0].set_xlabel('GH random variables', fontsize=20)\n",
    "ax[0].set_ylabel(r'$W(1)$ marginal samples',fontsize=20)\n",
    "\n",
    "ax[0].set_xlim(-5, 80)\n",
    "ax[0].set_ylim(-5, 80)\n",
    "\n",
    "ax[0].tick_params(axis='both', which='major', labelsize=15)\n",
    "ax[0].tick_params(axis='both', which='minor', labelsize=15)\n",
    "\n",
    "nb_bins = 30\n",
    "center_eps = 0.1\n",
    "#bin_space = np.linspace(range_min, range_max, nb_bins)\n",
    "bin_space = np.sort(np.concatenate((np.logspace(start=np.log10(center_eps), stop=np.log10(range_max), num=nb_bins), -np.logspace(start=np.log10(center_eps), stop=np.log10(range_max), num=nb_bins))))\n",
    "special_idx = int(bin_space.size/2)\n",
    "bin_space = np.delete(bin_space, [special_idx-1, special_idx])\n",
    "bin_space = np.insert(bin_space, obj=special_idx-1, values=0)\n",
    "\n",
    "\n",
    "counts, bin_edges = np.histogram(point_process_samples, density=True, bins=bin_space)\n",
    "bin_centers = moving_average(bin_edges, n=2)\n",
    "\n",
    "ax[1].plot(gh_range, gh_density, lw=5, label='GH probability density', c='#b3cde0')\n",
    "\n",
    "\n",
    "#ax[1].plot(gh_range, gaussian_density, lw=1.8, label='Gaussian density', c='#5e3c58', ls='--', alpha=0.7)\n",
    "\n",
    "ax[1].set_ylim(5*1e-5)\n",
    "\n",
    "ax[1].plot(bin_centers, counts, label=r'GH density estimate', c='#011f4b', lw=1.8)\n",
    "\n",
    "#ax[1].hist(point_process_samples, density=True, bins=100, color='#011f4b')\n",
    "\n",
    "ax[1].grid(True)\n",
    "\n",
    "ax[1].set_xlabel(r'$W(1)$ marginal samples', fontsize=20)\n",
    "ax[1].set_title('Sample density estimate', fontsize=25, weight=\"bold\")\n",
    "ax[1].legend(fontsize=15)\n",
    "\n",
    "\n",
    "ax[1].set_xlim(range_min, 50)\n",
    "ax[1].set_yscale('log')\n",
    "\n",
    "ax[1].tick_params(axis='both', which='major', labelsize=15)\n",
    "ax[1].tick_params(axis='both', which='minor', labelsize=15)\n",
    "\n",
    "#plt.savefig('marginal_distribution_plots/marginal_stats_lam_{}_delta_{}_gamma_{}_beta_{}.jpg'.format(lam, delta, gamma, beta), dpi=200)\n",
    "#plt.savefig('marginal_distribution_plots/marginal_stats_lam_{}_delta_{}_gamma_{}_beta_{}_with_gaussian.jpg'.format(lam, delta, gamma, beta), dpi=200)\n",
    "plt.show()"
   ]
  },
  {
   "attachments": {},
   "cell_type": "markdown",
   "metadata": {},
   "source": [
    "# Sample path simulation:"
   ]
  },
  {
   "cell_type": "code",
   "execution_count": null,
   "metadata": {},
   "outputs": [],
   "source": [
    "def integral(evaluation_points, t_series, x_series):\n",
    "    W = [x_series[t_series<point].sum() for point in evaluation_points]\n",
    "    return np.array(W).T"
   ]
  },
  {
   "cell_type": "code",
   "execution_count": null,
   "metadata": {},
   "outputs": [],
   "source": [
    "N = 50\n",
    "point_process_sample_paths = []\n",
    "for _ in range(N):\n",
    "    x_series = simulator.simulate_jumps()\n",
    "    t_series = np.random.uniform(low=0., high=1., size=x_series.size)\n",
    "    evaluation_points = np.linspace(start=0., stop=1., num=1000)\n",
    "    sample_path = integral(evaluation_points, t_series, x_series)\n",
    "    point_process_sample_paths.append(sample_path)"
   ]
  },
  {
   "attachments": {},
   "cell_type": "markdown",
   "metadata": {},
   "source": [
    "## Visualisation of sample paths:"
   ]
  },
  {
   "cell_type": "code",
   "execution_count": null,
   "metadata": {},
   "outputs": [],
   "source": [
    "fig, ax = plt.subplots(figsize=(21.42, 10.71))\n",
    "\n",
    "for i in range(N):\n",
    "    ax.plot(evaluation_points, point_process_sample_paths[i], lw=2)\n",
    "\n",
    "ax.grid(True)\n",
    "ax.set_title(r'Sample paths of GH process with $\\lambda$ = {}'.format(lam), fontsize=25, weight=\"bold\")\n",
    "#ax.set_title(r'Sample paths of normal inverse Gaussian process', fontsize=25, weight=\"bold\")\n",
    "#ax.set_title(r'Sample paths of Student t process', fontsize=25, weight=\"bold\")\n",
    "#ax.set_title(r'Sample paths of asymmetric Student t process', fontsize=25, weight=\"bold\")\n",
    "ax.set_xlabel('time', fontsize=20)\n",
    "ax.set_ylabel(r'$W(t)$',fontsize=20)\n",
    "\n",
    "ax.tick_params(axis='both', which='major', labelsize=15)\n",
    "ax.tick_params(axis='both', which='minor', labelsize=15)\n",
    "\n",
    "#plt.savefig('sample_path_plots/sample_paths_lam_{}_delta_{}_gamma_{}_beta_{}.jpg'.format(lam, delta, gamma, beta), dpi=200)\n",
    "plt.show()"
   ]
  },
  {
   "cell_type": "code",
   "execution_count": null,
   "metadata": {},
   "outputs": [],
   "source": []
  },
  {
   "cell_type": "code",
   "execution_count": null,
   "metadata": {},
   "outputs": [],
   "source": []
  }
 ],
 "metadata": {
  "kernelspec": {
   "display_name": "Python 3.10.0 ('.venv': pipenv)",
   "language": "python",
   "name": "python3"
  },
  "language_info": {
   "codemirror_mode": {
    "name": "ipython",
    "version": 3
   },
   "file_extension": ".py",
   "mimetype": "text/x-python",
   "name": "python",
   "nbconvert_exporter": "python",
   "pygments_lexer": "ipython3",
   "version": "3.10.0"
  },
  "orig_nbformat": 4,
  "vscode": {
   "interpreter": {
    "hash": "11308cd5d549caf37c8e4667ef78221512370d40993137942273310cbd5e3617"
   }
  }
 },
 "nbformat": 4,
 "nbformat_minor": 2
}
